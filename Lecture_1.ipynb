{
 "cells": [
  {
   "cell_type": "markdown",
   "source": [
    "# Lecture 1: Getting to Know Your Data\n",
    "\n",
    "Author: Sebastian Torres-Lara\n",
    "\n",
    "## Overview\n",
    "\n",
    "## Objective\n",
    "In this notebook you'll some coding example for the some of the fundamentals of data science."
   ],
   "metadata": {
    "collapsed": false
   }
  },
  {
   "cell_type": "markdown",
   "source": [
    "# 1. Getting your Data\n",
    "\n",
    "To start we need to get our hands on some data ! Luckily there are a ton of public data repos out there.\n",
    "\n",
    "For this case we will be using the\n",
    "\n",
    "*Side Note*:"
   ],
   "metadata": {
    "collapsed": false
   }
  },
  {
   "cell_type": "markdown",
   "source": [
    "Download the red wine quality data set (run the cell bellow) from the [UC Irvine Machine Learning Repository](https://archive.ics.uci.edu/ml/index.php)\n",
    "- This dataset contains information about Vinho Verde, or green grape wine from Portugal"
   ],
   "metadata": {
    "collapsed": false
   }
  },
  {
   "cell_type": "code",
   "execution_count": 15,
   "outputs": [
    {
     "name": "stdout",
     "output_type": "stream",
     "text": [
      "--2023-03-23 22:39:30--  https://archive.ics.uci.edu/ml/machine-learning-databases/wine-quality/winequality-red.csv\r\n",
      "Resolving archive.ics.uci.edu (archive.ics.uci.edu)... 128.195.10.252\r\n",
      "Connecting to archive.ics.uci.edu (archive.ics.uci.edu)|128.195.10.252|:443... connected.\r\n",
      "HTTP request sent, awaiting response... 200 OK\r\n",
      "Length: 84199 (82K) [application/x-httpd-php]\r\n",
      "Saving to: ‘winequality-red.csv.1’\r\n",
      "\r\n",
      "winequality-red.csv 100%[===================>]  82.23K  --.-KB/s    in 0.1s    \r\n",
      "\r\n",
      "2023-03-23 22:39:31 (750 KB/s) - ‘winequality-red.csv.1’ saved [84199/84199]\r\n",
      "\r\n"
     ]
    }
   ],
   "source": [
    "!wget https://archive.ics.uci.edu/ml/machine-learning-databases/wine-quality/winequality-red.csv"
   ],
   "metadata": {
    "collapsed": false
   }
  },
  {
   "cell_type": "markdown",
   "source": [
    "Check if your wine dataset has been downloaded, best to keep it in the same directory as this notebook"
   ],
   "metadata": {
    "collapsed": false
   }
  },
  {
   "cell_type": "markdown",
   "source": [
    "$\\text{flex}^2$"
   ],
   "metadata": {
    "collapsed": false
   }
  },
  {
   "cell_type": "code",
   "execution_count": 16,
   "outputs": [
    {
     "name": "stdout",
     "output_type": "stream",
     "text": [
      "Lecture_1.ipynb  winequality-red.csv  winequality-red.csv.1\r\n"
     ]
    }
   ],
   "source": [
    "!ls"
   ],
   "metadata": {
    "collapsed": false
   }
  },
  {
   "cell_type": "markdown",
   "source": [
    "### Quick Tangent\n",
    "In case you're wondering, the ! allows you to input terminal commands.\n",
    "While knowing terminal commands is not a must, but they'll make you a more efficient coder\n",
    "1. `ls` (list) - displays a list of files and directories in the current directory.\n",
    "    * Example: `ls`\n",
    "\n",
    "2. `cd` (change directory) - changes the current working directory to the specified directory.\n",
    "    * Example: `cd /home/user/Documents`\n",
    "\n",
    "3. `mkdir` (make directory) - creates a new directory with the specified name.\n",
    "    * Example: `mkdir new_directory`\n",
    "\n",
    "4. `rm` (remove) - deletes a file or directory.\n",
    "    * Example: `rm file.txt` or `rm -r directory`\n",
    "\n",
    "5. `cp` (copy) - copies a file or directory to a new location.\n",
    "    * Example: `cp file.txt /home/user/Documents`\n",
    "\n",
    "6. `mv` (move) - moves a file or directory to a new location or renames it.\n",
    "    * Example: `mv file.txt new_location/file.txt` or `mv file.txt new_name.txt`\n",
    "\n",
    "7. `touch` - creates a new empty file with the specified name.\n",
    "    * Example: `touch new_file.txt`\n",
    "\n",
    "8. `cat` (concatenate) - displays the contents of a file.\n",
    "    * Example: `cat file.txt`\n",
    "\n",
    "9. `grep` (global regular expression print) - searches for a specific pattern in a file or files.\n",
    "    * Example: `grep \"hello\" file.txt`\n",
    "\n",
    "10. `sudo` (superuser do) - executes a command with administrative privileges.\n",
    "    * Example: `sudo apt-get update`\n"
   ],
   "metadata": {
    "collapsed": false
   }
  },
  {
   "cell_type": "markdown",
   "source": [
    "# 2. Understanding Your Data\n",
    "\n",
    "Now that we have our dataset we need to load it onto our notebook.\n",
    "To do this we will use the *pandas* library, a powerful data manipulation and analysis library\n",
    "- [Pandas user guide](https://pandas.pydata.org/docs/user_guide/index.html)"
   ],
   "metadata": {
    "collapsed": false
   }
  },
  {
   "cell_type": "markdown",
   "source": [
    "Import pandas"
   ],
   "metadata": {
    "collapsed": false
   }
  },
  {
   "cell_type": "code",
   "execution_count": 17,
   "outputs": [],
   "source": [
    "import pandas as pd"
   ],
   "metadata": {
    "collapsed": false
   }
  },
  {
   "cell_type": "markdown",
   "source": [
    "Load the data using `read_csv` and save it as `df`\n",
    "- Loads dataset onto the notebook as a [Dataframe](https://pandas.pydata.org/docs/reference/frame.html) object\n",
    "- For this dataset we have to use `delimiter` to specify the character or sequence of characters used to separate values in a  file when reading it into a pandas DataFrame"
   ],
   "metadata": {
    "collapsed": false
   }
  },
  {
   "cell_type": "code",
   "execution_count": 18,
   "outputs": [],
   "source": [
    "df = pd.read_csv('winequality-red.csv', delimiter=';')"
   ],
   "metadata": {
    "collapsed": false
   }
  },
  {
   "cell_type": "markdown",
   "source": [
    "Get the shape of your dataframe using"
   ],
   "metadata": {
    "collapsed": false
   }
  },
  {
   "cell_type": "markdown",
   "source": [
    "view the first 10 rows using: `df.head(10)`"
   ],
   "metadata": {
    "collapsed": false
   }
  },
  {
   "cell_type": "code",
   "execution_count": 19,
   "outputs": [
    {
     "data": {
      "text/plain": "   fixed acidity  volatile acidity  citric acid  residual sugar  chlorides  \\\n0            7.4              0.70         0.00             1.9      0.076   \n1            7.8              0.88         0.00             2.6      0.098   \n2            7.8              0.76         0.04             2.3      0.092   \n3           11.2              0.28         0.56             1.9      0.075   \n4            7.4              0.70         0.00             1.9      0.076   \n5            7.4              0.66         0.00             1.8      0.075   \n6            7.9              0.60         0.06             1.6      0.069   \n7            7.3              0.65         0.00             1.2      0.065   \n8            7.8              0.58         0.02             2.0      0.073   \n9            7.5              0.50         0.36             6.1      0.071   \n\n   free sulfur dioxide  total sulfur dioxide  density    pH  sulphates  \\\n0                 11.0                  34.0   0.9978  3.51       0.56   \n1                 25.0                  67.0   0.9968  3.20       0.68   \n2                 15.0                  54.0   0.9970  3.26       0.65   \n3                 17.0                  60.0   0.9980  3.16       0.58   \n4                 11.0                  34.0   0.9978  3.51       0.56   \n5                 13.0                  40.0   0.9978  3.51       0.56   \n6                 15.0                  59.0   0.9964  3.30       0.46   \n7                 15.0                  21.0   0.9946  3.39       0.47   \n8                  9.0                  18.0   0.9968  3.36       0.57   \n9                 17.0                 102.0   0.9978  3.35       0.80   \n\n   alcohol  quality  \n0      9.4        5  \n1      9.8        5  \n2      9.8        5  \n3      9.8        6  \n4      9.4        5  \n5      9.4        5  \n6      9.4        5  \n7     10.0        7  \n8      9.5        7  \n9     10.5        5  ",
      "text/html": "<div>\n<style scoped>\n    .dataframe tbody tr th:only-of-type {\n        vertical-align: middle;\n    }\n\n    .dataframe tbody tr th {\n        vertical-align: top;\n    }\n\n    .dataframe thead th {\n        text-align: right;\n    }\n</style>\n<table border=\"1\" class=\"dataframe\">\n  <thead>\n    <tr style=\"text-align: right;\">\n      <th></th>\n      <th>fixed acidity</th>\n      <th>volatile acidity</th>\n      <th>citric acid</th>\n      <th>residual sugar</th>\n      <th>chlorides</th>\n      <th>free sulfur dioxide</th>\n      <th>total sulfur dioxide</th>\n      <th>density</th>\n      <th>pH</th>\n      <th>sulphates</th>\n      <th>alcohol</th>\n      <th>quality</th>\n    </tr>\n  </thead>\n  <tbody>\n    <tr>\n      <th>0</th>\n      <td>7.4</td>\n      <td>0.70</td>\n      <td>0.00</td>\n      <td>1.9</td>\n      <td>0.076</td>\n      <td>11.0</td>\n      <td>34.0</td>\n      <td>0.9978</td>\n      <td>3.51</td>\n      <td>0.56</td>\n      <td>9.4</td>\n      <td>5</td>\n    </tr>\n    <tr>\n      <th>1</th>\n      <td>7.8</td>\n      <td>0.88</td>\n      <td>0.00</td>\n      <td>2.6</td>\n      <td>0.098</td>\n      <td>25.0</td>\n      <td>67.0</td>\n      <td>0.9968</td>\n      <td>3.20</td>\n      <td>0.68</td>\n      <td>9.8</td>\n      <td>5</td>\n    </tr>\n    <tr>\n      <th>2</th>\n      <td>7.8</td>\n      <td>0.76</td>\n      <td>0.04</td>\n      <td>2.3</td>\n      <td>0.092</td>\n      <td>15.0</td>\n      <td>54.0</td>\n      <td>0.9970</td>\n      <td>3.26</td>\n      <td>0.65</td>\n      <td>9.8</td>\n      <td>5</td>\n    </tr>\n    <tr>\n      <th>3</th>\n      <td>11.2</td>\n      <td>0.28</td>\n      <td>0.56</td>\n      <td>1.9</td>\n      <td>0.075</td>\n      <td>17.0</td>\n      <td>60.0</td>\n      <td>0.9980</td>\n      <td>3.16</td>\n      <td>0.58</td>\n      <td>9.8</td>\n      <td>6</td>\n    </tr>\n    <tr>\n      <th>4</th>\n      <td>7.4</td>\n      <td>0.70</td>\n      <td>0.00</td>\n      <td>1.9</td>\n      <td>0.076</td>\n      <td>11.0</td>\n      <td>34.0</td>\n      <td>0.9978</td>\n      <td>3.51</td>\n      <td>0.56</td>\n      <td>9.4</td>\n      <td>5</td>\n    </tr>\n    <tr>\n      <th>5</th>\n      <td>7.4</td>\n      <td>0.66</td>\n      <td>0.00</td>\n      <td>1.8</td>\n      <td>0.075</td>\n      <td>13.0</td>\n      <td>40.0</td>\n      <td>0.9978</td>\n      <td>3.51</td>\n      <td>0.56</td>\n      <td>9.4</td>\n      <td>5</td>\n    </tr>\n    <tr>\n      <th>6</th>\n      <td>7.9</td>\n      <td>0.60</td>\n      <td>0.06</td>\n      <td>1.6</td>\n      <td>0.069</td>\n      <td>15.0</td>\n      <td>59.0</td>\n      <td>0.9964</td>\n      <td>3.30</td>\n      <td>0.46</td>\n      <td>9.4</td>\n      <td>5</td>\n    </tr>\n    <tr>\n      <th>7</th>\n      <td>7.3</td>\n      <td>0.65</td>\n      <td>0.00</td>\n      <td>1.2</td>\n      <td>0.065</td>\n      <td>15.0</td>\n      <td>21.0</td>\n      <td>0.9946</td>\n      <td>3.39</td>\n      <td>0.47</td>\n      <td>10.0</td>\n      <td>7</td>\n    </tr>\n    <tr>\n      <th>8</th>\n      <td>7.8</td>\n      <td>0.58</td>\n      <td>0.02</td>\n      <td>2.0</td>\n      <td>0.073</td>\n      <td>9.0</td>\n      <td>18.0</td>\n      <td>0.9968</td>\n      <td>3.36</td>\n      <td>0.57</td>\n      <td>9.5</td>\n      <td>7</td>\n    </tr>\n    <tr>\n      <th>9</th>\n      <td>7.5</td>\n      <td>0.50</td>\n      <td>0.36</td>\n      <td>6.1</td>\n      <td>0.071</td>\n      <td>17.0</td>\n      <td>102.0</td>\n      <td>0.9978</td>\n      <td>3.35</td>\n      <td>0.80</td>\n      <td>10.5</td>\n      <td>5</td>\n    </tr>\n  </tbody>\n</table>\n</div>"
     },
     "execution_count": 19,
     "metadata": {},
     "output_type": "execute_result"
    }
   ],
   "source": [
    "df.head(10)"
   ],
   "metadata": {
    "collapsed": false
   }
  },
  {
   "cell_type": "markdown",
   "source": [
    "view the last 10 rows using `df.tail(10)`"
   ],
   "metadata": {
    "collapsed": false
   }
  },
  {
   "cell_type": "code",
   "execution_count": 20,
   "outputs": [
    {
     "data": {
      "text/plain": "      fixed acidity  volatile acidity  citric acid  residual sugar  chlorides  \\\n1589            6.6             0.725         0.20             7.8      0.073   \n1590            6.3             0.550         0.15             1.8      0.077   \n1591            5.4             0.740         0.09             1.7      0.089   \n1592            6.3             0.510         0.13             2.3      0.076   \n1593            6.8             0.620         0.08             1.9      0.068   \n1594            6.2             0.600         0.08             2.0      0.090   \n1595            5.9             0.550         0.10             2.2      0.062   \n1596            6.3             0.510         0.13             2.3      0.076   \n1597            5.9             0.645         0.12             2.0      0.075   \n1598            6.0             0.310         0.47             3.6      0.067   \n\n      free sulfur dioxide  total sulfur dioxide  density    pH  sulphates  \\\n1589                 29.0                  79.0  0.99770  3.29       0.54   \n1590                 26.0                  35.0  0.99314  3.32       0.82   \n1591                 16.0                  26.0  0.99402  3.67       0.56   \n1592                 29.0                  40.0  0.99574  3.42       0.75   \n1593                 28.0                  38.0  0.99651  3.42       0.82   \n1594                 32.0                  44.0  0.99490  3.45       0.58   \n1595                 39.0                  51.0  0.99512  3.52       0.76   \n1596                 29.0                  40.0  0.99574  3.42       0.75   \n1597                 32.0                  44.0  0.99547  3.57       0.71   \n1598                 18.0                  42.0  0.99549  3.39       0.66   \n\n      alcohol  quality  \n1589      9.2        5  \n1590     11.6        6  \n1591     11.6        6  \n1592     11.0        6  \n1593      9.5        6  \n1594     10.5        5  \n1595     11.2        6  \n1596     11.0        6  \n1597     10.2        5  \n1598     11.0        6  ",
      "text/html": "<div>\n<style scoped>\n    .dataframe tbody tr th:only-of-type {\n        vertical-align: middle;\n    }\n\n    .dataframe tbody tr th {\n        vertical-align: top;\n    }\n\n    .dataframe thead th {\n        text-align: right;\n    }\n</style>\n<table border=\"1\" class=\"dataframe\">\n  <thead>\n    <tr style=\"text-align: right;\">\n      <th></th>\n      <th>fixed acidity</th>\n      <th>volatile acidity</th>\n      <th>citric acid</th>\n      <th>residual sugar</th>\n      <th>chlorides</th>\n      <th>free sulfur dioxide</th>\n      <th>total sulfur dioxide</th>\n      <th>density</th>\n      <th>pH</th>\n      <th>sulphates</th>\n      <th>alcohol</th>\n      <th>quality</th>\n    </tr>\n  </thead>\n  <tbody>\n    <tr>\n      <th>1589</th>\n      <td>6.6</td>\n      <td>0.725</td>\n      <td>0.20</td>\n      <td>7.8</td>\n      <td>0.073</td>\n      <td>29.0</td>\n      <td>79.0</td>\n      <td>0.99770</td>\n      <td>3.29</td>\n      <td>0.54</td>\n      <td>9.2</td>\n      <td>5</td>\n    </tr>\n    <tr>\n      <th>1590</th>\n      <td>6.3</td>\n      <td>0.550</td>\n      <td>0.15</td>\n      <td>1.8</td>\n      <td>0.077</td>\n      <td>26.0</td>\n      <td>35.0</td>\n      <td>0.99314</td>\n      <td>3.32</td>\n      <td>0.82</td>\n      <td>11.6</td>\n      <td>6</td>\n    </tr>\n    <tr>\n      <th>1591</th>\n      <td>5.4</td>\n      <td>0.740</td>\n      <td>0.09</td>\n      <td>1.7</td>\n      <td>0.089</td>\n      <td>16.0</td>\n      <td>26.0</td>\n      <td>0.99402</td>\n      <td>3.67</td>\n      <td>0.56</td>\n      <td>11.6</td>\n      <td>6</td>\n    </tr>\n    <tr>\n      <th>1592</th>\n      <td>6.3</td>\n      <td>0.510</td>\n      <td>0.13</td>\n      <td>2.3</td>\n      <td>0.076</td>\n      <td>29.0</td>\n      <td>40.0</td>\n      <td>0.99574</td>\n      <td>3.42</td>\n      <td>0.75</td>\n      <td>11.0</td>\n      <td>6</td>\n    </tr>\n    <tr>\n      <th>1593</th>\n      <td>6.8</td>\n      <td>0.620</td>\n      <td>0.08</td>\n      <td>1.9</td>\n      <td>0.068</td>\n      <td>28.0</td>\n      <td>38.0</td>\n      <td>0.99651</td>\n      <td>3.42</td>\n      <td>0.82</td>\n      <td>9.5</td>\n      <td>6</td>\n    </tr>\n    <tr>\n      <th>1594</th>\n      <td>6.2</td>\n      <td>0.600</td>\n      <td>0.08</td>\n      <td>2.0</td>\n      <td>0.090</td>\n      <td>32.0</td>\n      <td>44.0</td>\n      <td>0.99490</td>\n      <td>3.45</td>\n      <td>0.58</td>\n      <td>10.5</td>\n      <td>5</td>\n    </tr>\n    <tr>\n      <th>1595</th>\n      <td>5.9</td>\n      <td>0.550</td>\n      <td>0.10</td>\n      <td>2.2</td>\n      <td>0.062</td>\n      <td>39.0</td>\n      <td>51.0</td>\n      <td>0.99512</td>\n      <td>3.52</td>\n      <td>0.76</td>\n      <td>11.2</td>\n      <td>6</td>\n    </tr>\n    <tr>\n      <th>1596</th>\n      <td>6.3</td>\n      <td>0.510</td>\n      <td>0.13</td>\n      <td>2.3</td>\n      <td>0.076</td>\n      <td>29.0</td>\n      <td>40.0</td>\n      <td>0.99574</td>\n      <td>3.42</td>\n      <td>0.75</td>\n      <td>11.0</td>\n      <td>6</td>\n    </tr>\n    <tr>\n      <th>1597</th>\n      <td>5.9</td>\n      <td>0.645</td>\n      <td>0.12</td>\n      <td>2.0</td>\n      <td>0.075</td>\n      <td>32.0</td>\n      <td>44.0</td>\n      <td>0.99547</td>\n      <td>3.57</td>\n      <td>0.71</td>\n      <td>10.2</td>\n      <td>5</td>\n    </tr>\n    <tr>\n      <th>1598</th>\n      <td>6.0</td>\n      <td>0.310</td>\n      <td>0.47</td>\n      <td>3.6</td>\n      <td>0.067</td>\n      <td>18.0</td>\n      <td>42.0</td>\n      <td>0.99549</td>\n      <td>3.39</td>\n      <td>0.66</td>\n      <td>11.0</td>\n      <td>6</td>\n    </tr>\n  </tbody>\n</table>\n</div>"
     },
     "execution_count": 20,
     "metadata": {},
     "output_type": "execute_result"
    }
   ],
   "source": [
    "df.tail(10)"
   ],
   "metadata": {
    "collapsed": false
   }
  },
  {
   "cell_type": "markdown",
   "source": [
    "view 10 random rows using `df.sample(10)`"
   ],
   "metadata": {
    "collapsed": false
   }
  },
  {
   "cell_type": "code",
   "execution_count": 21,
   "outputs": [
    {
     "data": {
      "text/plain": "      fixed acidity  volatile acidity  citric acid  residual sugar  chlorides  \\\n382             8.3             0.260         0.42             2.0      0.080   \n1010            8.9             0.280         0.45             1.7      0.067   \n144             5.2             0.340         0.00             1.8      0.050   \n953            10.2             0.340         0.48             2.1      0.052   \n1408            8.1             0.290         0.36             2.2      0.048   \n313             8.6             0.470         0.30             3.0      0.076   \n490             9.3             0.775         0.27             2.8      0.078   \n761             9.3             0.655         0.26             2.0      0.096   \n1009            9.6             0.500         0.36             2.8      0.116   \n1260            8.6             0.635         0.68             1.8      0.403   \n\n      free sulfur dioxide  total sulfur dioxide  density    pH  sulphates  \\\n382                  11.0                  27.0  0.99740  3.21       0.80   \n1010                  7.0                  12.0  0.99354  3.25       0.55   \n144                  27.0                  63.0  0.99160  3.68       0.79   \n953                   5.0                   9.0  0.99458  3.20       0.69   \n1408                 35.0                  53.0  0.99500  3.27       1.01   \n313                  30.0                 135.0  0.99760  3.30       0.53   \n490                  24.0                  56.0  0.99840  3.31       0.67   \n761                   5.0                  35.0  0.99738  3.25       0.42   \n1009                 26.0                  55.0  0.99722  3.18       0.68   \n1260                 19.0                  56.0  0.99632  3.02       1.15   \n\n      alcohol  quality  \n382       9.4        6  \n1010     12.3        7  \n144      14.0        6  \n953      12.1        7  \n1408     12.4        7  \n313       9.4        5  \n490      10.6        6  \n761       9.6        5  \n1009     10.9        5  \n1260      9.3        5  ",
      "text/html": "<div>\n<style scoped>\n    .dataframe tbody tr th:only-of-type {\n        vertical-align: middle;\n    }\n\n    .dataframe tbody tr th {\n        vertical-align: top;\n    }\n\n    .dataframe thead th {\n        text-align: right;\n    }\n</style>\n<table border=\"1\" class=\"dataframe\">\n  <thead>\n    <tr style=\"text-align: right;\">\n      <th></th>\n      <th>fixed acidity</th>\n      <th>volatile acidity</th>\n      <th>citric acid</th>\n      <th>residual sugar</th>\n      <th>chlorides</th>\n      <th>free sulfur dioxide</th>\n      <th>total sulfur dioxide</th>\n      <th>density</th>\n      <th>pH</th>\n      <th>sulphates</th>\n      <th>alcohol</th>\n      <th>quality</th>\n    </tr>\n  </thead>\n  <tbody>\n    <tr>\n      <th>382</th>\n      <td>8.3</td>\n      <td>0.260</td>\n      <td>0.42</td>\n      <td>2.0</td>\n      <td>0.080</td>\n      <td>11.0</td>\n      <td>27.0</td>\n      <td>0.99740</td>\n      <td>3.21</td>\n      <td>0.80</td>\n      <td>9.4</td>\n      <td>6</td>\n    </tr>\n    <tr>\n      <th>1010</th>\n      <td>8.9</td>\n      <td>0.280</td>\n      <td>0.45</td>\n      <td>1.7</td>\n      <td>0.067</td>\n      <td>7.0</td>\n      <td>12.0</td>\n      <td>0.99354</td>\n      <td>3.25</td>\n      <td>0.55</td>\n      <td>12.3</td>\n      <td>7</td>\n    </tr>\n    <tr>\n      <th>144</th>\n      <td>5.2</td>\n      <td>0.340</td>\n      <td>0.00</td>\n      <td>1.8</td>\n      <td>0.050</td>\n      <td>27.0</td>\n      <td>63.0</td>\n      <td>0.99160</td>\n      <td>3.68</td>\n      <td>0.79</td>\n      <td>14.0</td>\n      <td>6</td>\n    </tr>\n    <tr>\n      <th>953</th>\n      <td>10.2</td>\n      <td>0.340</td>\n      <td>0.48</td>\n      <td>2.1</td>\n      <td>0.052</td>\n      <td>5.0</td>\n      <td>9.0</td>\n      <td>0.99458</td>\n      <td>3.20</td>\n      <td>0.69</td>\n      <td>12.1</td>\n      <td>7</td>\n    </tr>\n    <tr>\n      <th>1408</th>\n      <td>8.1</td>\n      <td>0.290</td>\n      <td>0.36</td>\n      <td>2.2</td>\n      <td>0.048</td>\n      <td>35.0</td>\n      <td>53.0</td>\n      <td>0.99500</td>\n      <td>3.27</td>\n      <td>1.01</td>\n      <td>12.4</td>\n      <td>7</td>\n    </tr>\n    <tr>\n      <th>313</th>\n      <td>8.6</td>\n      <td>0.470</td>\n      <td>0.30</td>\n      <td>3.0</td>\n      <td>0.076</td>\n      <td>30.0</td>\n      <td>135.0</td>\n      <td>0.99760</td>\n      <td>3.30</td>\n      <td>0.53</td>\n      <td>9.4</td>\n      <td>5</td>\n    </tr>\n    <tr>\n      <th>490</th>\n      <td>9.3</td>\n      <td>0.775</td>\n      <td>0.27</td>\n      <td>2.8</td>\n      <td>0.078</td>\n      <td>24.0</td>\n      <td>56.0</td>\n      <td>0.99840</td>\n      <td>3.31</td>\n      <td>0.67</td>\n      <td>10.6</td>\n      <td>6</td>\n    </tr>\n    <tr>\n      <th>761</th>\n      <td>9.3</td>\n      <td>0.655</td>\n      <td>0.26</td>\n      <td>2.0</td>\n      <td>0.096</td>\n      <td>5.0</td>\n      <td>35.0</td>\n      <td>0.99738</td>\n      <td>3.25</td>\n      <td>0.42</td>\n      <td>9.6</td>\n      <td>5</td>\n    </tr>\n    <tr>\n      <th>1009</th>\n      <td>9.6</td>\n      <td>0.500</td>\n      <td>0.36</td>\n      <td>2.8</td>\n      <td>0.116</td>\n      <td>26.0</td>\n      <td>55.0</td>\n      <td>0.99722</td>\n      <td>3.18</td>\n      <td>0.68</td>\n      <td>10.9</td>\n      <td>5</td>\n    </tr>\n    <tr>\n      <th>1260</th>\n      <td>8.6</td>\n      <td>0.635</td>\n      <td>0.68</td>\n      <td>1.8</td>\n      <td>0.403</td>\n      <td>19.0</td>\n      <td>56.0</td>\n      <td>0.99632</td>\n      <td>3.02</td>\n      <td>1.15</td>\n      <td>9.3</td>\n      <td>5</td>\n    </tr>\n  </tbody>\n</table>\n</div>"
     },
     "execution_count": 21,
     "metadata": {},
     "output_type": "execute_result"
    }
   ],
   "source": [
    "df.sample(10)"
   ],
   "metadata": {
    "collapsed": false
   }
  },
  {
   "cell_type": "markdown",
   "source": [
    "Use `.describe()` to show  statistical information about your dataframe.\n",
    "- count: Number of non-null observations for each column\n",
    "- mean: Arithmetic mean of each column\n",
    "- std: Standard deviation of each column\n",
    "- min: Minimum value of each column\n",
    "- 25%: First quartile (25%) of each column\n",
    "- 50%: Median (50%) of each column\n",
    "- 75%: Third quartile (75%) of each column\n",
    "- max: Maximum value of each column\n"
   ],
   "metadata": {
    "collapsed": false
   }
  },
  {
   "cell_type": "code",
   "execution_count": 22,
   "outputs": [
    {
     "data": {
      "text/plain": "       fixed acidity  volatile acidity  citric acid  residual sugar  \\\ncount    1599.000000       1599.000000  1599.000000     1599.000000   \nmean        8.319637          0.527821     0.270976        2.538806   \nstd         1.741096          0.179060     0.194801        1.409928   \nmin         4.600000          0.120000     0.000000        0.900000   \n25%         7.100000          0.390000     0.090000        1.900000   \n50%         7.900000          0.520000     0.260000        2.200000   \n75%         9.200000          0.640000     0.420000        2.600000   \nmax        15.900000          1.580000     1.000000       15.500000   \n\n         chlorides  free sulfur dioxide  total sulfur dioxide      density  \\\ncount  1599.000000          1599.000000           1599.000000  1599.000000   \nmean      0.087467            15.874922             46.467792     0.996747   \nstd       0.047065            10.460157             32.895324     0.001887   \nmin       0.012000             1.000000              6.000000     0.990070   \n25%       0.070000             7.000000             22.000000     0.995600   \n50%       0.079000            14.000000             38.000000     0.996750   \n75%       0.090000            21.000000             62.000000     0.997835   \nmax       0.611000            72.000000            289.000000     1.003690   \n\n                pH    sulphates      alcohol      quality  \ncount  1599.000000  1599.000000  1599.000000  1599.000000  \nmean      3.311113     0.658149    10.422983     5.636023  \nstd       0.154386     0.169507     1.065668     0.807569  \nmin       2.740000     0.330000     8.400000     3.000000  \n25%       3.210000     0.550000     9.500000     5.000000  \n50%       3.310000     0.620000    10.200000     6.000000  \n75%       3.400000     0.730000    11.100000     6.000000  \nmax       4.010000     2.000000    14.900000     8.000000  ",
      "text/html": "<div>\n<style scoped>\n    .dataframe tbody tr th:only-of-type {\n        vertical-align: middle;\n    }\n\n    .dataframe tbody tr th {\n        vertical-align: top;\n    }\n\n    .dataframe thead th {\n        text-align: right;\n    }\n</style>\n<table border=\"1\" class=\"dataframe\">\n  <thead>\n    <tr style=\"text-align: right;\">\n      <th></th>\n      <th>fixed acidity</th>\n      <th>volatile acidity</th>\n      <th>citric acid</th>\n      <th>residual sugar</th>\n      <th>chlorides</th>\n      <th>free sulfur dioxide</th>\n      <th>total sulfur dioxide</th>\n      <th>density</th>\n      <th>pH</th>\n      <th>sulphates</th>\n      <th>alcohol</th>\n      <th>quality</th>\n    </tr>\n  </thead>\n  <tbody>\n    <tr>\n      <th>count</th>\n      <td>1599.000000</td>\n      <td>1599.000000</td>\n      <td>1599.000000</td>\n      <td>1599.000000</td>\n      <td>1599.000000</td>\n      <td>1599.000000</td>\n      <td>1599.000000</td>\n      <td>1599.000000</td>\n      <td>1599.000000</td>\n      <td>1599.000000</td>\n      <td>1599.000000</td>\n      <td>1599.000000</td>\n    </tr>\n    <tr>\n      <th>mean</th>\n      <td>8.319637</td>\n      <td>0.527821</td>\n      <td>0.270976</td>\n      <td>2.538806</td>\n      <td>0.087467</td>\n      <td>15.874922</td>\n      <td>46.467792</td>\n      <td>0.996747</td>\n      <td>3.311113</td>\n      <td>0.658149</td>\n      <td>10.422983</td>\n      <td>5.636023</td>\n    </tr>\n    <tr>\n      <th>std</th>\n      <td>1.741096</td>\n      <td>0.179060</td>\n      <td>0.194801</td>\n      <td>1.409928</td>\n      <td>0.047065</td>\n      <td>10.460157</td>\n      <td>32.895324</td>\n      <td>0.001887</td>\n      <td>0.154386</td>\n      <td>0.169507</td>\n      <td>1.065668</td>\n      <td>0.807569</td>\n    </tr>\n    <tr>\n      <th>min</th>\n      <td>4.600000</td>\n      <td>0.120000</td>\n      <td>0.000000</td>\n      <td>0.900000</td>\n      <td>0.012000</td>\n      <td>1.000000</td>\n      <td>6.000000</td>\n      <td>0.990070</td>\n      <td>2.740000</td>\n      <td>0.330000</td>\n      <td>8.400000</td>\n      <td>3.000000</td>\n    </tr>\n    <tr>\n      <th>25%</th>\n      <td>7.100000</td>\n      <td>0.390000</td>\n      <td>0.090000</td>\n      <td>1.900000</td>\n      <td>0.070000</td>\n      <td>7.000000</td>\n      <td>22.000000</td>\n      <td>0.995600</td>\n      <td>3.210000</td>\n      <td>0.550000</td>\n      <td>9.500000</td>\n      <td>5.000000</td>\n    </tr>\n    <tr>\n      <th>50%</th>\n      <td>7.900000</td>\n      <td>0.520000</td>\n      <td>0.260000</td>\n      <td>2.200000</td>\n      <td>0.079000</td>\n      <td>14.000000</td>\n      <td>38.000000</td>\n      <td>0.996750</td>\n      <td>3.310000</td>\n      <td>0.620000</td>\n      <td>10.200000</td>\n      <td>6.000000</td>\n    </tr>\n    <tr>\n      <th>75%</th>\n      <td>9.200000</td>\n      <td>0.640000</td>\n      <td>0.420000</td>\n      <td>2.600000</td>\n      <td>0.090000</td>\n      <td>21.000000</td>\n      <td>62.000000</td>\n      <td>0.997835</td>\n      <td>3.400000</td>\n      <td>0.730000</td>\n      <td>11.100000</td>\n      <td>6.000000</td>\n    </tr>\n    <tr>\n      <th>max</th>\n      <td>15.900000</td>\n      <td>1.580000</td>\n      <td>1.000000</td>\n      <td>15.500000</td>\n      <td>0.611000</td>\n      <td>72.000000</td>\n      <td>289.000000</td>\n      <td>1.003690</td>\n      <td>4.010000</td>\n      <td>2.000000</td>\n      <td>14.900000</td>\n      <td>8.000000</td>\n    </tr>\n  </tbody>\n</table>\n</div>"
     },
     "execution_count": 22,
     "metadata": {},
     "output_type": "execute_result"
    }
   ],
   "source": [
    "df.describe()"
   ],
   "metadata": {
    "collapsed": false
   }
  },
  {
   "cell_type": "markdown",
   "source": [
    "Check if there are any NaN value (pandas data type for missing value) and count them using: `df.isna().sum()`"
   ],
   "metadata": {
    "collapsed": false
   }
  },
  {
   "cell_type": "code",
   "execution_count": 23,
   "outputs": [
    {
     "data": {
      "text/plain": "fixed acidity           0\nvolatile acidity        0\ncitric acid             0\nresidual sugar          0\nchlorides               0\nfree sulfur dioxide     0\ntotal sulfur dioxide    0\ndensity                 0\npH                      0\nsulphates               0\nalcohol                 0\nquality                 0\ndtype: int64"
     },
     "execution_count": 23,
     "metadata": {},
     "output_type": "execute_result"
    }
   ],
   "source": [
    "df.isna().sum()"
   ],
   "metadata": {
    "collapsed": false
   }
  },
  {
   "cell_type": "markdown",
   "source": [
    "Check the data types of each column (col) using: `df.dtypes`"
   ],
   "metadata": {
    "collapsed": false
   }
  },
  {
   "cell_type": "code",
   "execution_count": 24,
   "outputs": [
    {
     "data": {
      "text/plain": "fixed acidity           float64\nvolatile acidity        float64\ncitric acid             float64\nresidual sugar          float64\nchlorides               float64\nfree sulfur dioxide     float64\ntotal sulfur dioxide    float64\ndensity                 float64\npH                      float64\nsulphates               float64\nalcohol                 float64\nquality                   int64\ndtype: object"
     },
     "execution_count": 24,
     "metadata": {},
     "output_type": "execute_result"
    }
   ],
   "source": [
    "df.dtypes"
   ],
   "metadata": {
    "collapsed": false
   }
  }
 ],
 "metadata": {
  "kernelspec": {
   "display_name": "Python 3",
   "language": "python",
   "name": "python3"
  },
  "language_info": {
   "codemirror_mode": {
    "name": "ipython",
    "version": 2
   },
   "file_extension": ".py",
   "mimetype": "text/x-python",
   "name": "python",
   "nbconvert_exporter": "python",
   "pygments_lexer": "ipython2",
   "version": "2.7.6"
  }
 },
 "nbformat": 4,
 "nbformat_minor": 0
}
