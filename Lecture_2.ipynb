{
 "cells": [
  {
   "cell_type": "code",
   "execution_count": 1,
   "metadata": {
    "collapsed": true,
    "ExecuteTime": {
     "end_time": "2023-06-17T19:10:08.720733Z",
     "start_time": "2023-06-17T19:10:07.795479Z"
    }
   },
   "outputs": [],
   "source": [
    "import pandas as pd\n",
    "import numpy as np\n",
    "from plotly import express as px"
   ]
  },
  {
   "cell_type": "code",
   "execution_count": 2,
   "outputs": [],
   "source": [
    "churn_df = pd.read_csv('data/telecom_customer_churn.csv')"
   ],
   "metadata": {
    "collapsed": false,
    "ExecuteTime": {
     "end_time": "2023-06-17T19:10:08.778164Z",
     "start_time": "2023-06-17T19:10:08.722138Z"
    }
   }
  },
  {
   "cell_type": "code",
   "execution_count": 3,
   "outputs": [
    {
     "data": {
      "text/plain": "  Customer ID  Gender  Age Married  Number of Dependents          City  \\\n0  0002-ORFBO  Female   37     Yes                     0  Frazier Park   \n1  0003-MKNFE    Male   46      No                     0      Glendale   \n2  0004-TLHLJ    Male   50      No                     0    Costa Mesa   \n3  0011-IGKFF    Male   78     Yes                     0      Martinez   \n4  0013-EXCHZ  Female   75     Yes                     0     Camarillo   \n5  0013-MHZWF  Female   23      No                     3      Midpines   \n6  0013-SMEOE  Female   67     Yes                     0        Lompoc   \n7  0014-BMAQU    Male   52     Yes                     0          Napa   \n8  0015-UOCOJ  Female   68      No                     0   Simi Valley   \n9  0016-QLJIS  Female   43     Yes                     1      Sheridan   \n\n   Zip Code   Latitude   Longitude  Number of Referrals  ...   Payment Method  \\\n0     93225  34.827662 -118.999073                    2  ...      Credit Card   \n1     91206  34.162515 -118.203869                    0  ...      Credit Card   \n2     92627  33.645672 -117.922613                    0  ...  Bank Withdrawal   \n3     94553  38.014457 -122.115432                    1  ...  Bank Withdrawal   \n4     93010  34.227846 -119.079903                    3  ...      Credit Card   \n5     95345  37.581496 -119.972762                    0  ...      Credit Card   \n6     93437  34.757477 -120.550507                    1  ...  Bank Withdrawal   \n7     94558  38.489789 -122.270110                    8  ...      Credit Card   \n8     93063  34.296813 -118.685703                    0  ...  Bank Withdrawal   \n9     95681  38.984756 -121.345074                    3  ...      Credit Card   \n\n  Monthly Charge Total Charges  Total Refunds Total Extra Data Charges  \\\n0          65.60        593.30           0.00                        0   \n1          -4.00        542.40          38.33                       10   \n2          73.90        280.85           0.00                        0   \n3          98.00       1237.85           0.00                        0   \n4          83.90        267.40           0.00                        0   \n5          69.40        571.45           0.00                        0   \n6         109.70       7904.25           0.00                        0   \n7          84.65       5377.80           0.00                       20   \n8          48.20        340.35           0.00                        0   \n9          90.45       5957.90           0.00                        0   \n\n  Total Long Distance Charges Total Revenue  Customer Status   Churn Category  \\\n0                      381.51        974.81           Stayed              NaN   \n1                       96.21        610.28           Stayed              NaN   \n2                      134.60        415.45          Churned       Competitor   \n3                      361.66       1599.51          Churned  Dissatisfaction   \n4                       22.14        289.54          Churned  Dissatisfaction   \n5                      150.93        722.38           Stayed              NaN   \n6                      707.16       8611.41           Stayed              NaN   \n7                      816.48       6214.28           Stayed              NaN   \n8                       73.71        414.06           Stayed              NaN   \n9                     1849.90       7807.80           Stayed              NaN   \n\n                    Churn Reason  \n0                            NaN  \n1                            NaN  \n2  Competitor had better devices  \n3        Product dissatisfaction  \n4            Network reliability  \n5                            NaN  \n6                            NaN  \n7                            NaN  \n8                            NaN  \n9                            NaN  \n\n[10 rows x 38 columns]",
      "text/html": "<div>\n<style scoped>\n    .dataframe tbody tr th:only-of-type {\n        vertical-align: middle;\n    }\n\n    .dataframe tbody tr th {\n        vertical-align: top;\n    }\n\n    .dataframe thead th {\n        text-align: right;\n    }\n</style>\n<table border=\"1\" class=\"dataframe\">\n  <thead>\n    <tr style=\"text-align: right;\">\n      <th></th>\n      <th>Customer ID</th>\n      <th>Gender</th>\n      <th>Age</th>\n      <th>Married</th>\n      <th>Number of Dependents</th>\n      <th>City</th>\n      <th>Zip Code</th>\n      <th>Latitude</th>\n      <th>Longitude</th>\n      <th>Number of Referrals</th>\n      <th>...</th>\n      <th>Payment Method</th>\n      <th>Monthly Charge</th>\n      <th>Total Charges</th>\n      <th>Total Refunds</th>\n      <th>Total Extra Data Charges</th>\n      <th>Total Long Distance Charges</th>\n      <th>Total Revenue</th>\n      <th>Customer Status</th>\n      <th>Churn Category</th>\n      <th>Churn Reason</th>\n    </tr>\n  </thead>\n  <tbody>\n    <tr>\n      <th>0</th>\n      <td>0002-ORFBO</td>\n      <td>Female</td>\n      <td>37</td>\n      <td>Yes</td>\n      <td>0</td>\n      <td>Frazier Park</td>\n      <td>93225</td>\n      <td>34.827662</td>\n      <td>-118.999073</td>\n      <td>2</td>\n      <td>...</td>\n      <td>Credit Card</td>\n      <td>65.60</td>\n      <td>593.30</td>\n      <td>0.00</td>\n      <td>0</td>\n      <td>381.51</td>\n      <td>974.81</td>\n      <td>Stayed</td>\n      <td>NaN</td>\n      <td>NaN</td>\n    </tr>\n    <tr>\n      <th>1</th>\n      <td>0003-MKNFE</td>\n      <td>Male</td>\n      <td>46</td>\n      <td>No</td>\n      <td>0</td>\n      <td>Glendale</td>\n      <td>91206</td>\n      <td>34.162515</td>\n      <td>-118.203869</td>\n      <td>0</td>\n      <td>...</td>\n      <td>Credit Card</td>\n      <td>-4.00</td>\n      <td>542.40</td>\n      <td>38.33</td>\n      <td>10</td>\n      <td>96.21</td>\n      <td>610.28</td>\n      <td>Stayed</td>\n      <td>NaN</td>\n      <td>NaN</td>\n    </tr>\n    <tr>\n      <th>2</th>\n      <td>0004-TLHLJ</td>\n      <td>Male</td>\n      <td>50</td>\n      <td>No</td>\n      <td>0</td>\n      <td>Costa Mesa</td>\n      <td>92627</td>\n      <td>33.645672</td>\n      <td>-117.922613</td>\n      <td>0</td>\n      <td>...</td>\n      <td>Bank Withdrawal</td>\n      <td>73.90</td>\n      <td>280.85</td>\n      <td>0.00</td>\n      <td>0</td>\n      <td>134.60</td>\n      <td>415.45</td>\n      <td>Churned</td>\n      <td>Competitor</td>\n      <td>Competitor had better devices</td>\n    </tr>\n    <tr>\n      <th>3</th>\n      <td>0011-IGKFF</td>\n      <td>Male</td>\n      <td>78</td>\n      <td>Yes</td>\n      <td>0</td>\n      <td>Martinez</td>\n      <td>94553</td>\n      <td>38.014457</td>\n      <td>-122.115432</td>\n      <td>1</td>\n      <td>...</td>\n      <td>Bank Withdrawal</td>\n      <td>98.00</td>\n      <td>1237.85</td>\n      <td>0.00</td>\n      <td>0</td>\n      <td>361.66</td>\n      <td>1599.51</td>\n      <td>Churned</td>\n      <td>Dissatisfaction</td>\n      <td>Product dissatisfaction</td>\n    </tr>\n    <tr>\n      <th>4</th>\n      <td>0013-EXCHZ</td>\n      <td>Female</td>\n      <td>75</td>\n      <td>Yes</td>\n      <td>0</td>\n      <td>Camarillo</td>\n      <td>93010</td>\n      <td>34.227846</td>\n      <td>-119.079903</td>\n      <td>3</td>\n      <td>...</td>\n      <td>Credit Card</td>\n      <td>83.90</td>\n      <td>267.40</td>\n      <td>0.00</td>\n      <td>0</td>\n      <td>22.14</td>\n      <td>289.54</td>\n      <td>Churned</td>\n      <td>Dissatisfaction</td>\n      <td>Network reliability</td>\n    </tr>\n    <tr>\n      <th>5</th>\n      <td>0013-MHZWF</td>\n      <td>Female</td>\n      <td>23</td>\n      <td>No</td>\n      <td>3</td>\n      <td>Midpines</td>\n      <td>95345</td>\n      <td>37.581496</td>\n      <td>-119.972762</td>\n      <td>0</td>\n      <td>...</td>\n      <td>Credit Card</td>\n      <td>69.40</td>\n      <td>571.45</td>\n      <td>0.00</td>\n      <td>0</td>\n      <td>150.93</td>\n      <td>722.38</td>\n      <td>Stayed</td>\n      <td>NaN</td>\n      <td>NaN</td>\n    </tr>\n    <tr>\n      <th>6</th>\n      <td>0013-SMEOE</td>\n      <td>Female</td>\n      <td>67</td>\n      <td>Yes</td>\n      <td>0</td>\n      <td>Lompoc</td>\n      <td>93437</td>\n      <td>34.757477</td>\n      <td>-120.550507</td>\n      <td>1</td>\n      <td>...</td>\n      <td>Bank Withdrawal</td>\n      <td>109.70</td>\n      <td>7904.25</td>\n      <td>0.00</td>\n      <td>0</td>\n      <td>707.16</td>\n      <td>8611.41</td>\n      <td>Stayed</td>\n      <td>NaN</td>\n      <td>NaN</td>\n    </tr>\n    <tr>\n      <th>7</th>\n      <td>0014-BMAQU</td>\n      <td>Male</td>\n      <td>52</td>\n      <td>Yes</td>\n      <td>0</td>\n      <td>Napa</td>\n      <td>94558</td>\n      <td>38.489789</td>\n      <td>-122.270110</td>\n      <td>8</td>\n      <td>...</td>\n      <td>Credit Card</td>\n      <td>84.65</td>\n      <td>5377.80</td>\n      <td>0.00</td>\n      <td>20</td>\n      <td>816.48</td>\n      <td>6214.28</td>\n      <td>Stayed</td>\n      <td>NaN</td>\n      <td>NaN</td>\n    </tr>\n    <tr>\n      <th>8</th>\n      <td>0015-UOCOJ</td>\n      <td>Female</td>\n      <td>68</td>\n      <td>No</td>\n      <td>0</td>\n      <td>Simi Valley</td>\n      <td>93063</td>\n      <td>34.296813</td>\n      <td>-118.685703</td>\n      <td>0</td>\n      <td>...</td>\n      <td>Bank Withdrawal</td>\n      <td>48.20</td>\n      <td>340.35</td>\n      <td>0.00</td>\n      <td>0</td>\n      <td>73.71</td>\n      <td>414.06</td>\n      <td>Stayed</td>\n      <td>NaN</td>\n      <td>NaN</td>\n    </tr>\n    <tr>\n      <th>9</th>\n      <td>0016-QLJIS</td>\n      <td>Female</td>\n      <td>43</td>\n      <td>Yes</td>\n      <td>1</td>\n      <td>Sheridan</td>\n      <td>95681</td>\n      <td>38.984756</td>\n      <td>-121.345074</td>\n      <td>3</td>\n      <td>...</td>\n      <td>Credit Card</td>\n      <td>90.45</td>\n      <td>5957.90</td>\n      <td>0.00</td>\n      <td>0</td>\n      <td>1849.90</td>\n      <td>7807.80</td>\n      <td>Stayed</td>\n      <td>NaN</td>\n      <td>NaN</td>\n    </tr>\n  </tbody>\n</table>\n<p>10 rows × 38 columns</p>\n</div>"
     },
     "execution_count": 3,
     "metadata": {},
     "output_type": "execute_result"
    }
   ],
   "source": [
    "churn_df.head(10)"
   ],
   "metadata": {
    "collapsed": false,
    "ExecuteTime": {
     "end_time": "2023-06-17T19:10:08.797367Z",
     "start_time": "2023-06-17T19:10:08.783594Z"
    }
   }
  },
  {
   "cell_type": "code",
   "execution_count": 4,
   "outputs": [
    {
     "name": "stdout",
     "output_type": "stream",
     "text": [
      "Number of columns (or features):  38\n",
      "Number of rows:  7043\n"
     ]
    }
   ],
   "source": [
    "print('Number of columns (or features): ', len(churn_df.columns))\n",
    "print('Number of rows: ', len(churn_df))"
   ],
   "metadata": {
    "collapsed": false,
    "ExecuteTime": {
     "end_time": "2023-06-17T19:10:08.802612Z",
     "start_time": "2023-06-17T19:10:08.799475Z"
    }
   }
  },
  {
   "cell_type": "code",
   "execution_count": 5,
   "outputs": [
    {
     "name": "stdout",
     "output_type": "stream",
     "text": [
      "Customer ID\n",
      "Gender\n",
      "Age\n",
      "Married\n",
      "Number of Dependents\n",
      "City\n",
      "Zip Code\n",
      "Latitude\n",
      "Longitude\n",
      "Number of Referrals\n",
      "Tenure in Months\n",
      "Offer\n",
      "Phone Service\n",
      "Avg Monthly Long Distance Charges\n",
      "Multiple Lines\n",
      "Internet Service\n",
      "Internet Type\n",
      "Avg Monthly GB Download\n",
      "Online Security\n",
      "Online Backup\n",
      "Device Protection Plan\n",
      "Premium Tech Support\n",
      "Streaming TV\n",
      "Streaming Movies\n",
      "Streaming Music\n",
      "Unlimited Data\n",
      "Contract\n",
      "Paperless Billing\n",
      "Payment Method\n",
      "Monthly Charge\n",
      "Total Charges\n",
      "Total Refunds\n",
      "Total Extra Data Charges\n",
      "Total Long Distance Charges\n",
      "Total Revenue\n",
      "Customer Status\n",
      "Churn Category\n",
      "Churn Reason\n"
     ]
    }
   ],
   "source": [
    "for col in churn_df.columns:\n",
    "    print(col)"
   ],
   "metadata": {
    "collapsed": false,
    "ExecuteTime": {
     "end_time": "2023-06-17T19:10:09.020461Z",
     "start_time": "2023-06-17T19:10:09.016910Z"
    }
   }
  },
  {
   "cell_type": "code",
   "execution_count": 6,
   "outputs": [
    {
     "name": "stdout",
     "output_type": "stream",
     "text": [
      "Number of unique cities:  1106\n"
     ]
    }
   ],
   "source": [
    "print('Number of unique cities: ',churn_df['City'].nunique())"
   ],
   "metadata": {
    "collapsed": false,
    "ExecuteTime": {
     "end_time": "2023-06-17T19:10:09.871526Z",
     "start_time": "2023-06-17T19:10:09.867060Z"
    }
   }
  },
  {
   "cell_type": "code",
   "execution_count": 7,
   "outputs": [
    {
     "data": {
      "text/plain": "Los Angeles      293\nSan Diego        285\nSan Jose         112\nSacramento       108\nSan Francisco    104\nFresno            61\nLong Beach        60\nOakland           52\nEscondido         51\nStockton          44\nName: City, dtype: int64"
     },
     "execution_count": 7,
     "metadata": {},
     "output_type": "execute_result"
    }
   ],
   "source": [
    "# print the 5 cities with the most customers\n",
    "churn_df['City'].value_counts().head(10)"
   ],
   "metadata": {
    "collapsed": false,
    "ExecuteTime": {
     "end_time": "2023-06-17T19:10:10.662078Z",
     "start_time": "2023-06-17T19:10:10.656358Z"
    }
   }
  },
  {
   "cell_type": "code",
   "execution_count": 8,
   "outputs": [],
   "source": [
    "# map the values of the feature 'Customer Status' to numerical values\n",
    "churn_df['Customer Status'] = churn_df['Customer Status'].map({'Stayed': 1, 'Churned': 0})"
   ],
   "metadata": {
    "collapsed": false,
    "ExecuteTime": {
     "end_time": "2023-06-17T19:10:11.761801Z",
     "start_time": "2023-06-17T19:10:11.756643Z"
    }
   }
  },
  {
   "cell_type": "code",
   "execution_count": 9,
   "outputs": [
    {
     "data": {
      "text/plain": "Customer ID                             0\nGender                                  0\nAge                                     0\nMarried                                 0\nNumber of Dependents                    0\nCity                                    0\nZip Code                                0\nLatitude                                0\nLongitude                               0\nNumber of Referrals                     0\nTenure in Months                        0\nOffer                                   0\nPhone Service                           0\nAvg Monthly Long Distance Charges     682\nMultiple Lines                        682\nInternet Service                        0\nInternet Type                        1526\nAvg Monthly GB Download              1526\nOnline Security                      1526\nOnline Backup                        1526\nDevice Protection Plan               1526\nPremium Tech Support                 1526\nStreaming TV                         1526\nStreaming Movies                     1526\nStreaming Music                      1526\nUnlimited Data                       1526\nContract                                0\nPaperless Billing                       0\nPayment Method                          0\nMonthly Charge                          0\nTotal Charges                           0\nTotal Refunds                           0\nTotal Extra Data Charges                0\nTotal Long Distance Charges             0\nTotal Revenue                           0\nCustomer Status                       454\nChurn Category                       5174\nChurn Reason                         5174\ndtype: int64"
     },
     "execution_count": 9,
     "metadata": {},
     "output_type": "execute_result"
    }
   ],
   "source": [
    "# check the number of missing values in each column\n",
    "churn_df.isnull().sum()"
   ],
   "metadata": {
    "collapsed": false,
    "ExecuteTime": {
     "end_time": "2023-06-17T19:10:13.721203Z",
     "start_time": "2023-06-17T19:10:13.693210Z"
    }
   }
  },
  {
   "cell_type": "code",
   "execution_count": null,
   "outputs": [],
   "source": [
    "# drop irelevant features\n",
    "churn_df_clean = churn_df.drop(['Customer ID','Latitude', 'Longitude', 'Churn Label'], axis=1, inplace=True).copy()"
   ],
   "metadata": {
    "collapsed": false
   }
  },
  {
   "cell_type": "code",
   "execution_count": null,
   "outputs": [],
   "source": [
    "# create a function that calculates the weight of evidence of each category in a feature\n",
    "#  add information value of the feature\n",
    "def calc_weight_of_evidence(df, target):\n",
    "    df[f'Good'] = np.where(df[target] == 0, 1, 0)\n",
    "    df[f'Bad'] = np.where(df[target] == 1, 1, 0)\n",
    "    total_good = df['Good'].sum()\n",
    "    total_bad = df['Bad'].sum()\n",
    "    iv = {}\n",
    "    for feature in df.columns:\n",
    "        # ignore the target feature\n",
    "        if feature == target or feature == 'Good' or feature == 'Bad' or feature in ['Latitude', 'Longitude', 'Zip Code', 'City', 'State',]:\n",
    "            continue\n",
    "        grouped = df.groupby(feature).agg({'Good': 'sum', 'Bad': 'sum'})\n",
    "        grouped['DistributionGood'] = grouped['Good'] / total_good\n",
    "        grouped['DistributionBad'] = grouped['Bad'] / total_bad\n",
    "        grouped['WoE'] = np.log(grouped['DistributionGood'] / grouped['DistributionBad'])\n",
    "        woe_dict = grouped['WoE'].to_dict()\n",
    "        information_value = ((grouped['DistributionGood'] - grouped['DistributionBad']) * grouped['WoE']).sum()\n",
    "        df[feature] = df[feature].map(woe_dict)\n",
    "        iv[feature] = information_value\n",
    "    #  if iv is less than 0.02, then the feature is not useful for prediction, drop it\n",
    "    for feature in churn_df.columns:\n",
    "        if iv[feature] < 0.02:\n",
    "            print(f'Dropping {feature} with IV {iv[feature]}''')\n",
    "            df.drop(feature, axis=1, inplace=True)\n",
    "    return df"
   ],
   "metadata": {
    "collapsed": false
   }
  },
  {
   "cell_type": "code",
   "execution_count": null,
   "outputs": [],
   "source": [
    "# Example usage\n",
    "churn_df_post_iv = calc_weight_of_evidence(churn_df, 'Customer Status')"
   ],
   "metadata": {
    "collapsed": false
   }
  },
  {
   "cell_type": "code",
   "execution_count": null,
   "outputs": [],
   "source": [
    "churn_df_post_iv.head()"
   ],
   "metadata": {
    "collapsed": false
   }
  },
  {
   "cell_type": "code",
   "execution_count": null,
   "outputs": [],
   "source": [
    "# use px.density_mapbox to show the number of customers in each city, center the map on California\n",
    "fig = px.density_mapbox(churn_df, lat='Latitude', lon='Longitude', radius=10, zoom=5.5, mapbox_style='stamen-terrain', height=1200, width=900)\n",
    "fig.show()"
   ],
   "metadata": {
    "collapsed": false
   }
  },
  {
   "cell_type": "code",
   "execution_count": null,
   "outputs": [],
   "source": [
    "# in churn df find all the features that are catigorical\n",
    "categorical_features = [col for col in churn_df.columns if churn_df[col].dtype == 'object']"
   ],
   "metadata": {
    "collapsed": false
   }
  },
  {
   "cell_type": "code",
   "execution_count": null,
   "outputs": [],
   "source": [
    "categorical_features"
   ],
   "metadata": {
    "collapsed": false
   }
  },
  {
   "cell_type": "code",
   "execution_count": null,
   "outputs": [],
   "source": [
    "# use PCA  for churn df\n",
    "from sklearn.decomposition import PCA\n",
    "from sklearn.preprocessing import StandardScaler\n",
    "\n",
    "# create a copy of the churn df\n",
    "churn_df_pca = churn_df.copy()\n",
    "\n",
    "# drop the target feature\n",
    "churn_df_pca.drop('Customer Status', axis=1, inplace=True)\n",
    "\n",
    "# drop the categorical features\n",
    "churn_df_pca.drop(categorical_features, axis=1, inplace=True)\n",
    "\n",
    "# standardize the data\n",
    "scaler = StandardScaler()\n",
    "churn_df_pca = scaler.fit_transform(churn_df_pca)\n",
    "\n",
    "# create a PCA object\n",
    "pca = PCA(n_components=2)\n",
    "\n",
    "# fit the PCA object\n",
    "pca.fit(churn_df_pca)\n",
    "\n",
    "# transform the data\n",
    "churn_df_pca = pca.transform(churn_df_pca)\n",
    "\n",
    "# create a dataframe with the PCA data\n",
    "churn_df_pca = pd.DataFrame(churn_df_pca, columns=['PC1', 'PC2'])\n",
    "\n",
    "# add the target feature to the dataframe\n",
    "churn_df_pca['Customer Status'] = churn_df['Customer Status']\n",
    "\n"
   ],
   "metadata": {
    "collapsed": false
   }
  },
  {
   "cell_type": "code",
   "execution_count": null,
   "outputs": [],
   "source": [],
   "metadata": {
    "collapsed": false
   }
  },
  {
   "cell_type": "code",
   "execution_count": null,
   "outputs": [],
   "source": [],
   "metadata": {
    "collapsed": false
   }
  },
  {
   "cell_type": "code",
   "execution_count": null,
   "outputs": [],
   "source": [],
   "metadata": {
    "collapsed": false
   }
  },
  {
   "cell_type": "code",
   "execution_count": null,
   "outputs": [],
   "source": [],
   "metadata": {
    "collapsed": false
   }
  }
 ],
 "metadata": {
  "kernelspec": {
   "display_name": "Python 3",
   "language": "python",
   "name": "python3"
  },
  "language_info": {
   "codemirror_mode": {
    "name": "ipython",
    "version": 2
   },
   "file_extension": ".py",
   "mimetype": "text/x-python",
   "name": "python",
   "nbconvert_exporter": "python",
   "pygments_lexer": "ipython2",
   "version": "2.7.6"
  }
 },
 "nbformat": 4,
 "nbformat_minor": 0
}
